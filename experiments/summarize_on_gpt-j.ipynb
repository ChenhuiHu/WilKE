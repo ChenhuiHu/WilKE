{
 "cells": [
  {
   "cell_type": "code",
   "execution_count": 1,
   "id": "f5a5bfd7",
   "metadata": {},
   "outputs": [],
   "source": [
    "minimum = 1e-4\n",
    "\n",
    "def harmonic_mean(numbers):\n",
    "    if not numbers:\n",
    "        raise ValueError(\"List is empty, cannot compute harmonic mean.\")\n",
    "    \n",
    "    reciprocal_sum = sum(1/x if x != 0 else 1/minimum for x in numbers )\n",
    "    harmonic_mean = len(numbers) / reciprocal_sum\n",
    "    \n",
    "    return harmonic_mean"
   ]
  },
  {
   "cell_type": "code",
   "execution_count": 2,
   "id": "c6b0f74b",
   "metadata": {
    "scrolled": true
   },
   "outputs": [
    {
     "name": "stdout",
     "output_type": "stream",
     "text": [
      "Current proecss folder: results(gpt-j)/MEND/run_000(seed=48)\n"
     ]
    },
    {
     "name": "stderr",
     "output_type": "stream",
     "text": [
      "100%|██████████| 1025/1025 [00:00<00:00, 5421.42it/s]\n"
     ]
    },
    {
     "name": "stdout",
     "output_type": "stream",
     "text": [
      "Current proecss folder: results(gpt-j)/MEND/run_001(seed=48)\n"
     ]
    },
    {
     "name": "stderr",
     "output_type": "stream",
     "text": [
      "100%|██████████| 1025/1025 [00:00<00:00, 5637.39it/s]\n"
     ]
    },
    {
     "name": "stdout",
     "output_type": "stream",
     "text": [
      "Current proecss folder: results(gpt-j)/MEND/run_002(seed=48)\n"
     ]
    },
    {
     "name": "stderr",
     "output_type": "stream",
     "text": [
      "100%|██████████| 1025/1025 [00:00<00:00, 6992.14it/s]\n"
     ]
    },
    {
     "name": "stdout",
     "output_type": "stream",
     "text": [
      "Current proecss folder: results(gpt-j)/ROME/run_000(seed=48)\n"
     ]
    },
    {
     "name": "stderr",
     "output_type": "stream",
     "text": [
      "100%|██████████| 1025/1025 [00:00<00:00, 6713.42it/s]\n"
     ]
    },
    {
     "name": "stdout",
     "output_type": "stream",
     "text": [
      "Current proecss folder: results(gpt-j)/ROME/run_001(seed=48)\n"
     ]
    },
    {
     "name": "stderr",
     "output_type": "stream",
     "text": [
      "100%|██████████| 1025/1025 [00:00<00:00, 5574.88it/s]"
     ]
    },
    {
     "name": "stdout",
     "output_type": "stream",
     "text": [
      "Current proecss folder: results(gpt-j)/ROME/run_002(seed=48)\n"
     ]
    },
    {
     "name": "stderr",
     "output_type": "stream",
     "text": [
      "\n",
      "100%|██████████| 1025/1025 [00:00<00:00, 5927.31it/s]\n"
     ]
    },
    {
     "name": "stdout",
     "output_type": "stream",
     "text": [
      "Current proecss folder: results(gpt-j)/MEMIT/run_000(seed=48)\n"
     ]
    },
    {
     "name": "stderr",
     "output_type": "stream",
     "text": [
      "100%|██████████| 1025/1025 [00:00<00:00, 4785.84it/s]\n"
     ]
    },
    {
     "name": "stdout",
     "output_type": "stream",
     "text": [
      "Current proecss folder: results(gpt-j)/MEMIT/run_001(seed=48)\n"
     ]
    },
    {
     "name": "stderr",
     "output_type": "stream",
     "text": [
      "100%|██████████| 1025/1025 [00:00<00:00, 6821.05it/s]\n"
     ]
    },
    {
     "name": "stdout",
     "output_type": "stream",
     "text": [
      "Current proecss folder: results(gpt-j)/MEMIT/run_002(seed=48)\n"
     ]
    },
    {
     "name": "stderr",
     "output_type": "stream",
     "text": [
      "100%|██████████| 1025/1025 [00:00<00:00, 4395.02it/s]\n"
     ]
    },
    {
     "name": "stdout",
     "output_type": "stream",
     "text": [
      "Current proecss folder: results(gpt-j)/WilKE/run_000(seed=48)\n"
     ]
    },
    {
     "name": "stderr",
     "output_type": "stream",
     "text": [
      "100%|██████████| 1025/1025 [00:00<00:00, 2816.08it/s]\n"
     ]
    },
    {
     "name": "stdout",
     "output_type": "stream",
     "text": [
      "Current proecss folder: results(gpt-j)/WilKE/run_001(seed=48)\n"
     ]
    },
    {
     "name": "stderr",
     "output_type": "stream",
     "text": [
      "100%|██████████| 1025/1025 [00:00<00:00, 8685.49it/s]\n"
     ]
    },
    {
     "name": "stdout",
     "output_type": "stream",
     "text": [
      "Current proecss folder: results(gpt-j)/WilKE/run_002(seed=48)\n"
     ]
    },
    {
     "name": "stderr",
     "output_type": "stream",
     "text": [
      "100%|██████████| 1025/1025 [00:00<00:00, 7745.48it/s]\n"
     ]
    }
   ],
   "source": [
    "from pathlib import Path\n",
    "import json\n",
    "from tqdm import tqdm\n",
    "\n",
    "RESULTS_DIR = Path(\"results\")\n",
    "\n",
    "record_ckpt = [2**i for i in range(11)]\n",
    "\n",
    "metrics = {\n",
    "    alg_name:{\n",
    "        \"step\":[[] for _ in range(3)],\n",
    "        \"ES\":[[] for _ in range(3)],\n",
    "        \"GS\":[[] for _ in range(3)], \n",
    "        \"LS\":[[] for _ in range(3)], \n",
    "        \"ERS\":[[] for _ in range(3)], \n",
    "        \"ORS\":[[] for _ in range(3)], \n",
    "        \"S\":[[] for _ in range(3)],\n",
    "    } \n",
    "    for alg_name in [\"MEND\", \"ROME\", \"MEMIT\", \"WilKE\"]\n",
    "}\n",
    "\n",
    "for alg_name in metrics.keys():\n",
    "    dir_name = alg_name\n",
    "    # For three runs\n",
    "    for run_round in range(3):\n",
    "        # Determine run directory    \n",
    "        alg_dir = RESULTS_DIR / dir_name\n",
    "        run_dir = RESULTS_DIR / dir_name / f\"run_{str(run_round).zfill(3)}\"\n",
    "        \n",
    "        print(f\"Current proecss folder: {run_dir}\")\n",
    "        files = list(run_dir.glob(\"edit_*.json\"))\n",
    "        files.sort(key=lambda x: int(str(x).split(\"_\")[-4]))\n",
    "        \n",
    "        # Collect all results of the current algorithm\n",
    "        results = []\n",
    "        for case_file in tqdm(files):\n",
    "            try:\n",
    "                with open(case_file, \"r\") as f:\n",
    "                    data = json.load(f)\n",
    "            except json.JSONDecodeError:\n",
    "                print(f\"Could not decode {case_file} due to format error; skipping.\")\n",
    "            results.append(data)\n",
    "        \n",
    "        for ckpt in record_ckpt:\n",
    "            metrics[alg_name][\"step\"][run_round].append(ckpt)\n",
    "            \n",
    "            ES ,GS, LS = 0, 0, 0\n",
    "            for i in range(ckpt):\n",
    "                ES += sum(results[i][\"post\"][\"rewrite_prompts_correct\"])/len(results[i][\"post\"][\"rewrite_prompts_correct\"])\n",
    "                GS += sum(results[i][\"post\"][\"paraphrase_prompts_correct\"])/len(results[i][\"post\"][\"paraphrase_prompts_correct\"])\n",
    "                LS += sum(results[i][\"post\"][\"neighborhood_prompts_correct\"])/len(results[i][\"post\"][\"neighborhood_prompts_correct\"])\n",
    "            \n",
    "            ERS, ORS = 0, 0\n",
    "            try:\n",
    "                with open(run_dir / f\"retention_of_edit_{ckpt}.json\", \"r\") as f:\n",
    "                    retention = json.load(f)\n",
    "            except json.JSONDecodeError:\n",
    "                print(f\"Could not decode {case_file} due to format error; skipping.\")\n",
    "            \n",
    "            ERS = retention[\"edit_retention\"]/retention[\"edit_length\"]\n",
    "            ORS = retention[\"orig_retention\"]/retention[\"orig_length\"]\n",
    "            \n",
    "            metrics[alg_name][\"ES\"][run_round].append(ES/ckpt)\n",
    "            metrics[alg_name][\"GS\"][run_round].append(GS/ckpt)\n",
    "            metrics[alg_name][\"LS\"][run_round].append(LS/ckpt)\n",
    "            metrics[alg_name][\"ERS\"][run_round].append(ERS)\n",
    "            metrics[alg_name][\"ORS\"][run_round].append(ORS)\n",
    "            metrics[alg_name][\"S\"][run_round].append(harmonic_mean([ES/ckpt, GS/ckpt, LS/ckpt, ERS, ORS]))"
   ]
  },
  {
   "cell_type": "code",
   "execution_count": 3,
   "id": "62bc1ca7",
   "metadata": {},
   "outputs": [],
   "source": [
    "import numpy as np\n",
    "\n",
    "def calculate_average_and_std(metric):\n",
    "    average_result = np.mean(metric, axis=0)\n",
    "    std_result = np.std(metric, axis=0)\n",
    "    return average_result, std_result"
   ]
  },
  {
   "cell_type": "code",
   "execution_count": 4,
   "id": "8b3edd07",
   "metadata": {},
   "outputs": [
    {
     "name": "stdout",
     "output_type": "stream",
     "text": [
      "=============> For Method MEND <=============\n",
      "Metric ES: (array([0.        , 0.5       , 0.75      , 0.625     , 0.4375    ,\n",
      "       0.21875   , 0.109375  , 0.0546875 , 0.02734375, 0.02018229,\n",
      "       0.0374349 ]), array([0.        , 0.        , 0.        , 0.        , 0.        ,\n",
      "       0.        , 0.        , 0.        , 0.        , 0.00663935,\n",
      "       0.023658  ]))\n",
      "Metric GS: (array([0.        , 0.5       , 0.5       , 0.3125    , 0.25      ,\n",
      "       0.125     , 0.0703125 , 0.03515625, 0.01757812, 0.01106771,\n",
      "       0.01757812]), array([0.        , 0.        , 0.        , 0.        , 0.        ,\n",
      "       0.        , 0.        , 0.        , 0.        , 0.00256315,\n",
      "       0.00979001]))\n",
      "Metric LS: (array([0.4       , 0.2       , 0.325     , 0.2375    , 0.19375   ,\n",
      "       0.1625    , 0.09739583, 0.04869792, 0.02434896, 0.02109375,\n",
      "       0.04785156]), array([5.55111512e-17, 2.77555756e-17, 0.00000000e+00, 0.00000000e+00,\n",
      "       2.77555756e-17, 0.00000000e+00, 1.94877989e-03, 9.74389944e-04,\n",
      "       4.87194972e-04, 1.09757979e-02, 3.07951311e-02]))\n",
      "Metric ERS: (array([1.        , 1.        , 0.75      , 0.5       , 0.375     ,\n",
      "       0.125     , 0.01041667, 0.        , 0.        , 0.08789062,\n",
      "       0.09863281]), array([0.        , 0.        , 0.        , 0.        , 0.        ,\n",
      "       0.        , 0.01473139, 0.        , 0.        , 0.06215317,\n",
      "       0.07145609]))\n",
      "Metric ORS: (array([0.9765625 , 0.97558594, 0.96191406, 0.88085938, 0.52246094,\n",
      "       0.11914062, 0.        , 0.        , 0.        , 0.08268229,\n",
      "       0.09277344]), array([0.        , 0.        , 0.        , 0.        , 0.        ,\n",
      "       0.        , 0.        , 0.        , 0.        , 0.05847065,\n",
      "       0.06780373]))\n",
      "Metric S: (array([2.49943463e-04, 4.53513710e-01, 5.69269663e-01, 4.11665571e-01,\n",
      "       3.11960115e-01, 1.42374220e-01, 3.31963981e-04, 2.49161906e-04,\n",
      "       2.48329412e-04, 1.84205592e-02, 3.75748196e-02]), array([0.00000000e+00, 5.55111512e-17, 0.00000000e+00, 5.55111512e-17,\n",
      "       0.00000000e+00, 0.00000000e+00, 1.16506250e-04, 5.06604243e-09,\n",
      "       1.00645650e-08, 1.40223722e-02, 2.74618471e-02]))\n",
      "=============> For Method ROME <=============\n",
      "Metric ES: (array([1.        , 1.        , 1.        , 1.        , 1.        ,\n",
      "       1.        , 0.88541667, 0.63541667, 0.453125  , 0.37565104,\n",
      "       0.28776042]), array([0.        , 0.        , 0.        , 0.        , 0.        ,\n",
      "       0.        , 0.0194878 , 0.03513213, 0.03236928, 0.01675089,\n",
      "       0.00906796]))\n",
      "Metric GS: (array([0.5       , 0.75      , 0.75      , 0.6875    , 0.72916667,\n",
      "       0.77604167, 0.72135417, 0.49348958, 0.33398438, 0.26888021,\n",
      "       0.20768229]), array([0.        , 0.        , 0.        , 0.        , 0.01473139,\n",
      "       0.02655739, 0.02577993, 0.02712587, 0.01680142, 0.00598463,\n",
      "       0.00782605]))\n",
      "Metric LS: (array([0.1       , 0.55      , 0.5       , 0.35416667, 0.35      ,\n",
      "       0.36458333, 0.23854167, 0.12213542, 0.06614583, 0.05      ,\n",
      "       0.04622396]), array([1.38777878e-17, 0.00000000e+00, 0.00000000e+00, 5.89255651e-03,\n",
      "       8.83883476e-03, 2.94627825e-03, 4.48037774e-03, 3.01454086e-03,\n",
      "       2.55818785e-03, 3.67824138e-03, 3.10083156e-03]))\n",
      "Metric ERS: (array([1.        , 1.        , 1.        , 1.        , 1.        ,\n",
      "       1.        , 0.33333333, 0.12760417, 0.2890625 , 0.34960938,\n",
      "       0.10904948]), array([0.        , 0.        , 0.        , 0.        , 0.        ,\n",
      "       0.        , 0.0389756 , 0.0194878 , 0.01149969, 0.02870496,\n",
      "       0.0245806 ]))\n",
      "Metric ORS: (array([0.98535156, 0.96940104, 0.95507812, 0.91731771, 0.7952474 ,\n",
      "       0.703125  , 0.0390625 , 0.01790365, 0.04296875, 0.0921224 ,\n",
      "       0.05826823]), array([0.00159472, 0.00184142, 0.00210962, 0.00924158, 0.01070761,\n",
      "       0.01802457, 0.00652667, 0.0046721 , 0.00887902, 0.01025261,\n",
      "       0.00668706]))\n",
      "Metric S: (array([0.33300325, 0.80865807, 0.78365332, 0.67854355, 0.66780762,\n",
      "       0.67061792, 0.14104864, 0.06515116, 0.10538837, 0.12443265,\n",
      "       0.08773102]), array([3.64276195e-05, 2.56563262e-04, 2.83745505e-04, 4.81898944e-03,\n",
      "       9.39452552e-03, 5.30440858e-03, 1.89755444e-02, 1.21602780e-02,\n",
      "       1.24766104e-02, 8.40851354e-03, 4.92528680e-03]))\n",
      "=============> For Method MEMIT <=============\n",
      "Metric ES: (array([1.        , 1.        , 1.        , 1.        , 1.        ,\n",
      "       1.        , 0.98958333, 0.9921875 , 0.99609375, 0.64322917,\n",
      "       0.3219401 ]), array([0.        , 0.        , 0.        , 0.        , 0.        ,\n",
      "       0.        , 0.0073657 , 0.        , 0.        , 0.06399445,\n",
      "       0.03223478]))\n",
      "Metric GS: (array([0.66666667, 0.83333333, 0.66666667, 0.52083333, 0.59375   ,\n",
      "       0.68229167, 0.74479167, 0.72005208, 0.73111979, 0.47721354,\n",
      "       0.23876953]), array([0.23570226, 0.11785113, 0.05892557, 0.02946278, 0.05103104,\n",
      "       0.04480378, 0.03014541, 0.02123634, 0.02367143, 0.03991846,\n",
      "       0.02012446]))\n",
      "Metric LS: (array([0.1       , 0.55      , 0.5       , 0.3875    , 0.41875   ,\n",
      "       0.43645833, 0.39166667, 0.33828125, 0.32630208, 0.1860026 ,\n",
      "       0.0930013 ]), array([1.38777878e-17, 0.00000000e+00, 0.00000000e+00, 0.00000000e+00,\n",
      "       5.10310363e-03, 1.47313913e-03, 3.68284782e-03, 5.84633967e-03,\n",
      "       1.54953388e-02, 2.12363365e-02, 1.06181682e-02]))\n",
      "Metric ERS: (array([1.00000000e+00, 1.00000000e+00, 1.00000000e+00, 1.00000000e+00,\n",
      "       1.00000000e+00, 1.00000000e+00, 9.63541667e-01, 9.71354167e-01,\n",
      "       7.30468750e-01, 0.00000000e+00, 3.25520833e-04]), array([0.        , 0.        , 0.        , 0.        , 0.        ,\n",
      "       0.        , 0.0073657 , 0.0132787 , 0.07760242, 0.        ,\n",
      "       0.00046036]))\n",
      "Metric ORS: (array([0.99414062, 0.98860677, 0.99153646, 0.98144531, 0.97721354,\n",
      "       0.96484375, 0.86035156, 0.82096354, 0.52311198, 0.        ,\n",
      "       0.        ]), array([0.00079736, 0.00121799, 0.00121799, 0.00138107, 0.00200665,\n",
      "       0.00318944, 0.00760633, 0.02392523, 0.12101059, 0.        ,\n",
      "       0.        ]))\n",
      "Metric S: (array([3.41133528e-01, 8.26759112e-01, 7.67207137e-01, 6.64541437e-01,\n",
      "       7.03577170e-01, 7.35479525e-01, 7.03386785e-01, 6.57681491e-01,\n",
      "       5.68311030e-01, 2.49885856e-04, 3.17465588e-04]), array([1.12318290e-02, 2.20347116e-02, 1.51388660e-02, 9.40778578e-03,\n",
      "       1.17444971e-02, 1.07047925e-02, 7.24028870e-03, 8.39019450e-03,\n",
      "       4.94674642e-02, 1.28143047e-08, 9.57480154e-05]))\n",
      "=============> For Method WilKE <=============\n",
      "Metric ES: (array([1.        , 1.        , 1.        , 1.        , 1.        ,\n",
      "       1.        , 1.        , 0.99479167, 0.97005208, 0.86328125,\n",
      "       0.71354167]), array([0.        , 0.        , 0.        , 0.        , 0.        ,\n",
      "       0.        , 0.        , 0.00368285, 0.02655739, 0.06872114,\n",
      "       0.05886079]))\n",
      "Metric GS: (array([0.5       , 0.75      , 0.625     , 0.625     , 0.69791667,\n",
      "       0.77604167, 0.79427083, 0.77213542, 0.78645833, 0.67285156,\n",
      "       0.50602214]), array([0.        , 0.        , 0.        , 0.        , 0.01473139,\n",
      "       0.01473139, 0.02050523, 0.03513213, 0.04315576, 0.09046786,\n",
      "       0.05789834]))\n",
      "Metric LS: (array([0.1       , 0.55      , 0.5       , 0.375     , 0.37916667,\n",
      "       0.35729167, 0.33229167, 0.25182292, 0.16653646, 0.10182292,\n",
      "       0.07477214]), array([1.38777878e-17, 0.00000000e+00, 0.00000000e+00, 0.00000000e+00,\n",
      "       2.94627825e-03, 1.66014348e-02, 1.95295138e-02, 2.28603712e-02,\n",
      "       3.46833550e-02, 1.40528516e-02, 8.33320618e-03]))\n",
      "Metric ERS: (array([1.        , 1.        , 1.        , 1.        , 1.        ,\n",
      "       0.97916667, 0.9375    , 0.70572917, 0.30989583, 0.15625   ,\n",
      "       0.19108073]), array([0.        , 0.        , 0.        , 0.        , 0.        ,\n",
      "       0.01473139, 0.03827328, 0.22392805, 0.1612587 , 0.03225121,\n",
      "       0.07151538]))\n",
      "Metric ORS: (array([0.98470052, 0.97623698, 0.96777344, 0.94335938, 0.77766927,\n",
      "       0.74674479, 0.50423177, 0.31184896, 0.12434896, 0.05989583,\n",
      "       0.08561198]), array([0.00046036, 0.00092071, 0.00138107, 0.00601994, 0.02240189,\n",
      "       0.01117253, 0.03958258, 0.12001349, 0.06105056, 0.0220731 ,\n",
      "       0.01769229]))\n",
      "Metric S: (array([0.33298842, 0.80960419, 0.75377246, 0.68243129, 0.67956211,\n",
      "       0.67085837, 0.60026652, 0.4434164 , 0.23287603, 0.1353007 ,\n",
      "       0.14621764]), array([1.05254325e-05, 1.26574908e-04, 1.67420728e-04, 6.29281467e-04,\n",
      "       4.16317706e-03, 1.02701849e-02, 2.43523999e-02, 9.71602990e-02,\n",
      "       8.41139065e-02, 3.18874621e-02, 2.30356933e-02]))\n"
     ]
    }
   ],
   "source": [
    "for alg_name in metrics.keys():\n",
    "    print(f\"=============> For Method {alg_name} <=============\")\n",
    "    for metric in list(metrics[alg_name].keys())[1:]:\n",
    "        print(f\"Metric {metric}: {calculate_average_and_std(metrics[alg_name][metric])}\")"
   ]
  },
  {
   "cell_type": "code",
   "execution_count": null,
   "id": "ca1d60f7",
   "metadata": {},
   "outputs": [],
   "source": []
  },
  {
   "cell_type": "code",
   "execution_count": null,
   "id": "811bbe88",
   "metadata": {},
   "outputs": [],
   "source": []
  }
 ],
 "metadata": {
  "kernelspec": {
   "display_name": "Python 3 (ipykernel)",
   "language": "python",
   "name": "python3"
  },
  "language_info": {
   "codemirror_mode": {
    "name": "ipython",
    "version": 3
   },
   "file_extension": ".py",
   "mimetype": "text/x-python",
   "name": "python",
   "nbconvert_exporter": "python",
   "pygments_lexer": "ipython3",
   "version": "3.10.13"
  }
 },
 "nbformat": 4,
 "nbformat_minor": 5
}
