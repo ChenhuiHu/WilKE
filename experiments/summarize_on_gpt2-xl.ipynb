{
 "cells": [
  {
   "cell_type": "code",
   "execution_count": 1,
   "id": "f5a5bfd7",
   "metadata": {},
   "outputs": [],
   "source": [
    "minimum = 1e-4\n",
    "\n",
    "def harmonic_mean(numbers):\n",
    "    if not numbers:\n",
    "        raise ValueError(\"List is empty, cannot compute harmonic mean.\")\n",
    "    \n",
    "    reciprocal_sum = sum(1/x if x != 0 else 1/minimum for x in numbers )\n",
    "    harmonic_mean = len(numbers) / reciprocal_sum\n",
    "    \n",
    "    return harmonic_mean"
   ]
  },
  {
   "cell_type": "code",
   "execution_count": 2,
   "id": "c6b0f74b",
   "metadata": {
    "scrolled": true
   },
   "outputs": [
    {
     "name": "stdout",
     "output_type": "stream",
     "text": [
      "Current proecss folder: results(gpt2-xl)/KE/run_000(seed=9)\n"
     ]
    },
    {
     "name": "stderr",
     "output_type": "stream",
     "text": [
      "100%|██████████| 1025/1025 [00:00<00:00, 16888.53it/s]\n"
     ]
    },
    {
     "name": "stdout",
     "output_type": "stream",
     "text": [
      "Current proecss folder: results(gpt2-xl)/KE/run_001(seed=9)\n"
     ]
    },
    {
     "name": "stderr",
     "output_type": "stream",
     "text": [
      "100%|██████████| 1025/1025 [00:00<00:00, 13911.07it/s]\n"
     ]
    },
    {
     "name": "stdout",
     "output_type": "stream",
     "text": [
      "Current proecss folder: results(gpt2-xl)/KE/run_002(seed=9)\n"
     ]
    },
    {
     "name": "stderr",
     "output_type": "stream",
     "text": [
      "100%|██████████| 1025/1025 [00:00<00:00, 19030.33it/s]\n"
     ]
    },
    {
     "name": "stdout",
     "output_type": "stream",
     "text": [
      "Current proecss folder: results(gpt2-xl)/KN/run_000(seed=9)\n"
     ]
    },
    {
     "name": "stderr",
     "output_type": "stream",
     "text": [
      "100%|██████████| 1028/1028 [00:00<00:00, 18966.31it/s]\n"
     ]
    },
    {
     "name": "stdout",
     "output_type": "stream",
     "text": [
      "Current proecss folder: results(gpt2-xl)/KN/run_001(seed=9)\n"
     ]
    },
    {
     "name": "stderr",
     "output_type": "stream",
     "text": [
      "100%|██████████| 1028/1028 [00:00<00:00, 14743.17it/s]\n"
     ]
    },
    {
     "name": "stdout",
     "output_type": "stream",
     "text": [
      "Current proecss folder: results(gpt2-xl)/KN/run_002(seed=9)\n"
     ]
    },
    {
     "name": "stderr",
     "output_type": "stream",
     "text": [
      "100%|██████████| 1028/1028 [00:00<00:00, 18026.67it/s]\n"
     ]
    },
    {
     "name": "stdout",
     "output_type": "stream",
     "text": [
      "Current proecss folder: results(gpt2-xl)/MEND/run_000(seed=9)\n"
     ]
    },
    {
     "name": "stderr",
     "output_type": "stream",
     "text": [
      "100%|██████████| 1025/1025 [00:00<00:00, 18831.19it/s]\n"
     ]
    },
    {
     "name": "stdout",
     "output_type": "stream",
     "text": [
      "Current proecss folder: results(gpt2-xl)/MEND/run_001(seed=9)\n"
     ]
    },
    {
     "name": "stderr",
     "output_type": "stream",
     "text": [
      "100%|██████████| 1025/1025 [00:00<00:00, 18839.94it/s]\n"
     ]
    },
    {
     "name": "stdout",
     "output_type": "stream",
     "text": [
      "Current proecss folder: results(gpt2-xl)/MEND/run_002(seed=9)\n"
     ]
    },
    {
     "name": "stderr",
     "output_type": "stream",
     "text": [
      "100%|██████████| 1025/1025 [00:00<00:00, 13060.73it/s]\n"
     ]
    },
    {
     "name": "stdout",
     "output_type": "stream",
     "text": [
      "Current proecss folder: results(gpt2-xl)/ROME/run_000(seed=9)\n"
     ]
    },
    {
     "name": "stderr",
     "output_type": "stream",
     "text": [
      "100%|██████████| 1025/1025 [00:00<00:00, 18957.08it/s]\n"
     ]
    },
    {
     "name": "stdout",
     "output_type": "stream",
     "text": [
      "Current proecss folder: results(gpt2-xl)/ROME/run_001(seed=9)\n"
     ]
    },
    {
     "name": "stderr",
     "output_type": "stream",
     "text": [
      "100%|██████████| 1025/1025 [00:00<00:00, 18960.00it/s]\n"
     ]
    },
    {
     "name": "stdout",
     "output_type": "stream",
     "text": [
      "Current proecss folder: results(gpt2-xl)/ROME/run_002(seed=9)\n"
     ]
    },
    {
     "name": "stderr",
     "output_type": "stream",
     "text": [
      "100%|██████████| 1025/1025 [00:00<00:00, 14868.74it/s]\n"
     ]
    },
    {
     "name": "stdout",
     "output_type": "stream",
     "text": [
      "Current proecss folder: results(gpt2-xl)/MEMIT/run_000(seed=9)\n"
     ]
    },
    {
     "name": "stderr",
     "output_type": "stream",
     "text": [
      "100%|██████████| 1025/1025 [00:00<00:00, 19242.51it/s]\n"
     ]
    },
    {
     "name": "stdout",
     "output_type": "stream",
     "text": [
      "Current proecss folder: results(gpt2-xl)/MEMIT/run_001(seed=9)\n"
     ]
    },
    {
     "name": "stderr",
     "output_type": "stream",
     "text": [
      "100%|██████████| 1025/1025 [00:00<00:00, 19012.83it/s]\n"
     ]
    },
    {
     "name": "stdout",
     "output_type": "stream",
     "text": [
      "Current proecss folder: results(gpt2-xl)/MEMIT/run_002(seed=9)\n"
     ]
    },
    {
     "name": "stderr",
     "output_type": "stream",
     "text": [
      "100%|██████████| 1025/1025 [00:00<00:00, 18994.18it/s]\n"
     ]
    },
    {
     "name": "stdout",
     "output_type": "stream",
     "text": [
      "Current proecss folder: results(gpt2-xl)/WilKE/run_000(seed=9)\n"
     ]
    },
    {
     "name": "stderr",
     "output_type": "stream",
     "text": [
      "100%|██████████| 1025/1025 [00:00<00:00, 14570.86it/s]\n"
     ]
    },
    {
     "name": "stdout",
     "output_type": "stream",
     "text": [
      "Current proecss folder: results(gpt2-xl)/WilKE/run_001(seed=9)\n"
     ]
    },
    {
     "name": "stderr",
     "output_type": "stream",
     "text": [
      "100%|██████████| 1025/1025 [00:00<00:00, 18487.76it/s]\n"
     ]
    },
    {
     "name": "stdout",
     "output_type": "stream",
     "text": [
      "Current proecss folder: results(gpt2-xl)/WilKE/run_002(seed=9)\n"
     ]
    },
    {
     "name": "stderr",
     "output_type": "stream",
     "text": [
      "100%|██████████| 1025/1025 [00:00<00:00, 18537.26it/s]\n"
     ]
    }
   ],
   "source": [
    "from pathlib import Path\n",
    "import json\n",
    "from tqdm import tqdm\n",
    "\n",
    "RESULTS_DIR = Path(\"results\")\n",
    "\n",
    "record_ckpt = [2**i for i in range(11)]\n",
    "\n",
    "metrics = {\n",
    "    alg_name:{\n",
    "        \"step\":[[] for _ in range(3)],\n",
    "        \"ES\":[[] for _ in range(3)],\n",
    "        \"GS\":[[] for _ in range(3)], \n",
    "        \"LS\":[[] for _ in range(3)], \n",
    "        \"ERS\":[[] for _ in range(3)], \n",
    "        \"ORS\":[[] for _ in range(3)], \n",
    "        \"S\":[[] for _ in range(3)],\n",
    "    } \n",
    "    for alg_name in [\"KE\", \"KN\", \"MEND\", \"ROME\", \"MEMIT\", \"WilKE\"]\n",
    "}\n",
    "\n",
    "for alg_name in metrics.keys():\n",
    "    dir_name = alg_name\n",
    "    # For three runs\n",
    "    for run_round in range(3):\n",
    "        # Determine run directory    \n",
    "        alg_dir = RESULTS_DIR / dir_name\n",
    "        run_dir = RESULTS_DIR / dir_name / f\"run_{str(run_round).zfill(3)}\"\n",
    "        \n",
    "        print(f\"Current proecss folder: {run_dir}\")\n",
    "        files = list(run_dir.glob(\"edit_*.json\"))\n",
    "        files.sort(key=lambda x: int(str(x).split(\"_\")[-4]))\n",
    "        \n",
    "        # Collect all results of the current algorithm\n",
    "        results = []\n",
    "        for case_file in tqdm(files):\n",
    "            try:\n",
    "                with open(case_file, \"r\") as f:\n",
    "                    data = json.load(f)\n",
    "            except json.JSONDecodeError:\n",
    "                print(f\"Could not decode {case_file} due to format error; skipping.\")\n",
    "            results.append(data)\n",
    "        \n",
    "        for ckpt in record_ckpt:\n",
    "            metrics[alg_name][\"step\"][run_round].append(ckpt)\n",
    "            \n",
    "            ES ,GS, LS = 0, 0, 0\n",
    "            for i in range(ckpt):\n",
    "                ES += sum(results[i][\"post\"][\"rewrite_prompts_correct\"])/len(results[i][\"post\"][\"rewrite_prompts_correct\"])\n",
    "                GS += sum(results[i][\"post\"][\"paraphrase_prompts_correct\"])/len(results[i][\"post\"][\"paraphrase_prompts_correct\"])\n",
    "                LS += sum(results[i][\"post\"][\"neighborhood_prompts_correct\"])/len(results[i][\"post\"][\"neighborhood_prompts_correct\"])\n",
    "            \n",
    "            ERS, ORS = 0, 0\n",
    "            try:\n",
    "                with open(run_dir / f\"retention_of_edit_{ckpt}.json\", \"r\") as f:\n",
    "                    retention = json.load(f)\n",
    "            except json.JSONDecodeError:\n",
    "                print(f\"Could not decode {case_file} due to format error; skipping.\")\n",
    "            \n",
    "            ERS = retention[\"edit_retention\"]/retention[\"edit_length\"]\n",
    "            ORS = retention[\"orig_retention\"]/retention[\"orig_length\"]\n",
    "            \n",
    "            metrics[alg_name][\"ES\"][run_round].append(ES/ckpt)\n",
    "            metrics[alg_name][\"GS\"][run_round].append(GS/ckpt)\n",
    "            metrics[alg_name][\"LS\"][run_round].append(LS/ckpt)\n",
    "            metrics[alg_name][\"ERS\"][run_round].append(ERS)\n",
    "            metrics[alg_name][\"ORS\"][run_round].append(ORS)\n",
    "            metrics[alg_name][\"S\"][run_round].append(harmonic_mean([ES/ckpt, GS/ckpt, LS/ckpt, ERS, ORS]))"
   ]
  },
  {
   "cell_type": "code",
   "execution_count": 3,
   "id": "62bc1ca7",
   "metadata": {},
   "outputs": [],
   "source": [
    "import numpy as np\n",
    "\n",
    "def calculate_average_and_std(metric):\n",
    "    average_result = np.mean(metric, axis=0)\n",
    "    std_result = np.std(metric, axis=0)\n",
    "    return average_result, std_result"
   ]
  },
  {
   "cell_type": "code",
   "execution_count": 4,
   "id": "8b3edd07",
   "metadata": {},
   "outputs": [
    {
     "name": "stdout",
     "output_type": "stream",
     "text": [
      "=============> For Method KE <=============\n",
      "Metric ES: (array([0.        , 0.5       , 0.5       , 0.25      , 0.125     ,\n",
      "       0.0625    , 0.03125   , 0.015625  , 0.0078125 , 0.00390625,\n",
      "       0.00195312]), array([0., 0., 0., 0., 0., 0., 0., 0., 0., 0., 0.]))\n",
      "Metric GS: (array([0.        , 0.25      , 0.375     , 0.1875    , 0.09375   ,\n",
      "       0.046875  , 0.0234375 , 0.01171875, 0.00585938, 0.00292969,\n",
      "       0.00146484]), array([0., 0., 0., 0., 0., 0., 0., 0., 0., 0., 0.]))\n",
      "Metric LS: (array([0.4       , 0.2       , 0.1       , 0.0875    , 0.04375   ,\n",
      "       0.021875  , 0.0109375 , 0.00546875, 0.00273437, 0.00136719,\n",
      "       0.00068359]), array([5.55111512e-17, 2.77555756e-17, 1.38777878e-17, 1.38777878e-17,\n",
      "       6.93889390e-18, 3.46944695e-18, 1.73472348e-18, 8.67361738e-19,\n",
      "       4.33680869e-19, 2.16840434e-19, 1.08420217e-19]))\n",
      "Metric ERS: (array([1. , 0.5, 0.5, 0. , 0. , 0. , 0. , 0. , 0. , 0. , 0. ]), array([0., 0., 0., 0., 0., 0., 0., 0., 0., 0., 0.]))\n",
      "Metric ORS: (array([0.91699219, 0.29980469, 0.14160156, 0.00097656, 0.        ,\n",
      "       0.        , 0.        , 0.        , 0.        , 0.        ,\n",
      "       0.        ]), array([0., 0., 0., 0., 0., 0., 0., 0., 0., 0., 0.]))\n",
      "Metric S: (array([2.49942632e-04, 3.06081755e-01, 2.10714978e-01, 4.52703285e-04,\n",
      "       2.49482028e-04, 2.48966198e-04, 2.47940910e-04, 2.45915461e-04,\n",
      "       2.41962245e-04, 2.34425234e-04, 2.20677248e-04]), array([0.00000000e+00, 0.00000000e+00, 2.77555756e-17, 0.00000000e+00,\n",
      "       0.00000000e+00, 0.00000000e+00, 0.00000000e+00, 0.00000000e+00,\n",
      "       0.00000000e+00, 0.00000000e+00, 2.71050543e-20]))\n",
      "=============> For Method KN <=============\n",
      "Metric ES: (array([0.        , 0.        , 0.        , 0.        , 0.        ,\n",
      "       0.        , 0.015625  , 0.0078125 , 0.00390625, 0.00195312,\n",
      "       0.00195312]), array([0., 0., 0., 0., 0., 0., 0., 0., 0., 0., 0.]))\n",
      "Metric GS: (array([0.        , 0.        , 0.        , 0.        , 0.        ,\n",
      "       0.        , 0.015625  , 0.0078125 , 0.00390625, 0.00390625,\n",
      "       0.01025391]), array([0., 0., 0., 0., 0., 0., 0., 0., 0., 0., 0.]))\n",
      "Metric LS: (array([0.        , 0.05      , 0.025     , 0.0125    , 0.00625   ,\n",
      "       0.003125  , 0.0015625 , 0.00078125, 0.00117188, 0.00058594,\n",
      "       0.00078125]), array([0.00000000e+00, 6.93889390e-18, 3.46944695e-18, 1.73472348e-18,\n",
      "       8.67361738e-19, 4.33680869e-19, 2.16840434e-19, 1.08420217e-19,\n",
      "       0.00000000e+00, 0.00000000e+00, 1.08420217e-19]))\n",
      "Metric ERS: (array([0. , 0.5, 0. , 0. , 0. , 0. , 0. , 0. , 0. , 0. , 0. ]), array([0., 0., 0., 0., 0., 0., 0., 0., 0., 0., 0.]))\n",
      "Metric ORS: (array([0.66992188, 0.55273438, 0.        , 0.        , 0.        ,\n",
      "       0.        , 0.        , 0.        , 0.        , 0.        ,\n",
      "       0.        ]), array([0., 0., 0., 0., 0., 0., 0., 0., 0., 0., 0.]))\n",
      "Metric S: (array([0.000125  , 0.0002497 , 0.00012488, 0.00012475, 0.0001245 ,\n",
      "       0.00012401, 0.00024076, 0.00023217, 0.00023402, 0.00022247,\n",
      "       0.00022842]), array([0.00000000e+00, 0.00000000e+00, 0.00000000e+00, 0.00000000e+00,\n",
      "       0.00000000e+00, 0.00000000e+00, 0.00000000e+00, 2.71050543e-20,\n",
      "       2.71050543e-20, 0.00000000e+00, 0.00000000e+00]))\n",
      "=============> For Method MEND <=============\n",
      "Metric ES: (array([0.        , 0.5       , 0.75      , 0.75      , 0.375     ,\n",
      "       0.1875    , 0.09375   , 0.046875  , 0.0234375 , 0.01171875,\n",
      "       0.00585938]), array([0., 0., 0., 0., 0., 0., 0., 0., 0., 0., 0.]))\n",
      "Metric GS: (array([0.        , 0.        , 0.25      , 0.125     , 0.0625    ,\n",
      "       0.0625    , 0.03125   , 0.015625  , 0.0078125 , 0.00390625,\n",
      "       0.00195312]), array([0., 0., 0., 0., 0., 0., 0., 0., 0., 0., 0.]))\n",
      "Metric LS: (array([0.6       , 0.3       , 0.3       , 0.2625    , 0.275     ,\n",
      "       0.15625   , 0.07864583, 0.03932292, 0.01966146, 0.00983073,\n",
      "       0.00491536]), array([0.00000000e+00, 0.00000000e+00, 0.00000000e+00, 0.00000000e+00,\n",
      "       0.00000000e+00, 0.00000000e+00, 7.36569564e-04, 3.68284782e-04,\n",
      "       1.84142391e-04, 9.20711955e-05, 4.60355977e-05]))\n",
      "Metric ERS: (array([1.     , 1.     , 1.     , 0.75   , 0.3125 , 0.03125, 0.     ,\n",
      "       0.     , 0.     , 0.     , 0.     ]), array([0., 0., 0., 0., 0., 0., 0., 0., 0., 0., 0.]))\n",
      "Metric ORS: (array([0.99511719, 0.98632812, 0.97070312, 0.71386719, 0.24804688,\n",
      "       0.01660156, 0.        , 0.        , 0.        , 0.        ,\n",
      "       0.        ]), array([0., 0., 0., 0., 0., 0., 0., 0., 0., 0., 0.]))\n",
      "Metric S: (array([2.49954114e-04, 4.99632910e-04, 4.67427425e-01, 3.14920731e-01,\n",
      "       1.69293387e-01, 4.16775628e-02, 2.49309624e-04, 2.48623051e-04,\n",
      "       2.47261187e-04, 2.44581732e-04, 2.39393344e-04]), array([0.00000000e+00, 0.00000000e+00, 0.00000000e+00, 0.00000000e+00,\n",
      "       0.00000000e+00, 0.00000000e+00, 1.47076549e-09, 2.92536408e-09,\n",
      "       5.78685511e-09, 1.13244148e-08, 2.16987885e-08]))\n",
      "=============> For Method ROME <=============\n",
      "Metric ES: (array([1.        , 1.        , 1.        , 1.        , 1.        ,\n",
      "       1.        , 0.84375   , 0.48958333, 0.28385417, 0.19921875,\n",
      "       0.15885417]), array([0.        , 0.        , 0.        , 0.        , 0.        ,\n",
      "       0.        , 0.02209709, 0.02415005, 0.02894025, 0.03611961,\n",
      "       0.03999802]))\n",
      "Metric GS: (array([1.        , 1.        , 0.75      , 0.625     , 0.64583333,\n",
      "       0.67708333, 0.59635417, 0.31901042, 0.17578125, 0.11979167,\n",
      "       0.08805339]), array([0.        , 0.        , 0.        , 0.        , 0.01473139,\n",
      "       0.01473139, 0.00368285, 0.0097439 , 0.01797158, 0.02561913,\n",
      "       0.02435975]))\n",
      "Metric LS: (array([0.6       , 0.4       , 0.5       , 0.4375    , 0.43958333,\n",
      "       0.32604167, 0.24427083, 0.13333333, 0.07773438, 0.06464844,\n",
      "       0.06806641]), array([0.00000000e+00, 5.55111512e-17, 0.00000000e+00, 1.02062073e-02,\n",
      "       1.93200385e-02, 1.28425292e-02, 3.89755978e-03, 7.39326540e-03,\n",
      "       1.23031373e-02, 1.39872480e-02, 1.39236947e-02]))\n",
      "Metric ERS: (array([1.        , 1.        , 1.        , 1.        , 1.        ,\n",
      "       1.        , 0.25      , 0.05208333, 0.15755208, 0.16992188,\n",
      "       0.12239583]), array([0.        , 0.        , 0.        , 0.        , 0.        ,\n",
      "       0.        , 0.03375386, 0.05311479, 0.0852442 , 0.06631044,\n",
      "       0.02393851]))\n",
      "Metric ORS: (array([0.99479167, 0.98697917, 0.98177083, 0.94791667, 0.9124349 ,\n",
      "       0.80175781, 0.03938802, 0.02050781, 0.04752604, 0.078125  ,\n",
      "       0.0797526 ]), array([0.00121799, 0.00256315, 0.00322249, 0.00322249, 0.00376818,\n",
      "       0.01463758, 0.00753635, 0.02222618, 0.03096728, 0.04150103,\n",
      "       0.02357724]))\n",
      "Metric S: (array([0.88153827, 0.76767199, 0.78716478, 0.72031061, 0.72236714,\n",
      "       0.64150995, 0.13677797, 0.05229917, 0.09470913, 0.10281341,\n",
      "       0.09348537]), array([0.00019136, 0.00031056, 0.00041466, 0.00590518, 0.01473169,\n",
      "       0.01271185, 0.01987815, 0.05446028, 0.04110095, 0.03403607,\n",
      "       0.02258323]))\n",
      "=============> For Method MEMIT <=============\n",
      "Metric ES: (array([1.        , 0.5       , 0.5       , 0.625     , 0.8125    ,\n",
      "       0.89583333, 0.86458333, 0.88020833, 0.921875  , 0.92838542,\n",
      "       0.92578125]), array([0.        , 0.        , 0.        , 0.        , 0.        ,\n",
      "       0.01473139, 0.02655739, 0.02050523, 0.01461585, 0.0103759 ,\n",
      "       0.00522864]))\n",
      "Metric GS: (array([1.        , 0.5       , 0.5       , 0.375     , 0.41666667,\n",
      "       0.421875  , 0.41145833, 0.47135417, 0.51692708, 0.53776042,\n",
      "       0.55192057]), array([0.        , 0.        , 0.        , 0.        , 0.01473139,\n",
      "       0.02209709, 0.0132787 , 0.00487195, 0.00512631, 0.00121799,\n",
      "       0.00583673]))\n",
      "Metric LS: (array([0.6       , 0.35      , 0.5       , 0.4375    , 0.4625    ,\n",
      "       0.35416667, 0.37447917, 0.38776042, 0.41341146, 0.41054687,\n",
      "       0.35026042]), array([0.00000000e+00, 5.55111512e-17, 0.00000000e+00, 0.00000000e+00,\n",
      "       0.00000000e+00, 1.47313913e-03, 1.94877989e-03, 3.68284782e-04,\n",
      "       3.21063229e-03, 6.15983134e-03, 7.72012994e-03]))\n",
      "Metric ERS: (array([1.        , 1.        , 1.        , 1.        , 1.        ,\n",
      "       1.        , 1.        , 1.        , 0.9921875 , 0.95182292,\n",
      "       0.06640625]), array([0.        , 0.        , 0.        , 0.        , 0.        ,\n",
      "       0.        , 0.        , 0.        , 0.00318944, 0.0132787 ,\n",
      "       0.03926542]))\n",
      "Metric ORS: (array([0.99707031, 0.99707031, 0.99251302, 0.98242188, 0.97721354,\n",
      "       0.96875   , 0.95540365, 0.94759115, 0.92057292, 0.83072917,\n",
      "       0.06673177]), array([0.00138107, 0.        , 0.00121799, 0.00079736, 0.00200665,\n",
      "       0.00138107, 0.00439152, 0.00165984, 0.00530908, 0.01225792,\n",
      "       0.04028312]))\n",
      "Metric S: (array([0.88189541, 0.56432892, 0.62441112, 0.58341191, 0.63952199,\n",
      "       0.59897802, 0.60185523, 0.63349712, 0.66376143, 0.65551768,\n",
      "       0.132938  ]), array([2.15912837e-04, 0.00000000e+00, 9.63750681e-05, 5.62392326e-05,\n",
      "       6.67028880e-03, 8.14445695e-03, 2.20053128e-03, 1.11977379e-03,\n",
      "       2.83000095e-03, 5.08572576e-03, 6.70684172e-02]))\n",
      "=============> For Method WilKE <=============\n",
      "Metric ES: (array([1.        , 1.        , 1.        , 1.        , 1.        ,\n",
      "       1.        , 0.984375  , 0.98177083, 0.98307292, 0.87434896,\n",
      "       0.70735677]), array([0.        , 0.        , 0.        , 0.        , 0.        ,\n",
      "       0.        , 0.        , 0.0097439 , 0.00802658, 0.03498705,\n",
      "       0.08282315]))\n",
      "Metric GS: (array([1.        , 1.        , 0.75      , 0.625     , 0.60416667,\n",
      "       0.625     , 0.65625   , 0.66276042, 0.66341146, 0.61230469,\n",
      "       0.51074219]), array([0.        , 0.        , 0.        , 0.        , 0.01473139,\n",
      "       0.01275776, 0.01687693, 0.01756606, 0.00818347, 0.02222618,\n",
      "       0.06224389]))\n",
      "Metric LS: (array([0.6       , 0.38333333, 0.49166667, 0.425     , 0.44375   ,\n",
      "       0.33333333, 0.3375    , 0.33880208, 0.28229167, 0.18033854,\n",
      "       0.12727865]), array([0.        , 0.02357023, 0.01178511, 0.01020621, 0.03104097,\n",
      "       0.01736805, 0.00893043, 0.00807712, 0.00893233, 0.00730154,\n",
      "       0.00882816]))\n",
      "Metric ERS: (array([1.        , 1.        , 1.        , 1.        , 1.        ,\n",
      "       0.97916667, 0.984375  , 0.89583333, 0.59244792, 0.18489583,\n",
      "       0.16145833]), array([0.        , 0.        , 0.        , 0.        , 0.        ,\n",
      "       0.01473139, 0.01275776, 0.08077116, 0.09256704, 0.01515683,\n",
      "       0.05759419]))\n",
      "Metric ORS: (array([0.99804688, 0.99023438, 0.98242188, 0.95735677, 0.9514974 ,\n",
      "       0.86425781, 0.85058594, 0.70345052, 0.37565104, 0.11783854,\n",
      "       0.13151042]), array([0.        , 0.00138107, 0.        , 0.01496688, 0.01217987,\n",
      "       0.00159472, 0.00652667, 0.06100889, 0.08112852, 0.01404652,\n",
      "       0.05100819]))\n",
      "Metric S: (array([0.88204833, 0.75474596, 0.78297128, 0.71444589, 0.71771153,\n",
      "       0.64236941, 0.6496315 , 0.62221305, 0.47551621, 0.22463762,\n",
      "       0.19353101]), array([1.11022302e-16, 1.87537092e-02, 6.05042877e-03, 6.96722110e-03,\n",
      "       2.06745020e-02, 1.44301665e-02, 6.83306524e-03, 1.33535590e-02,\n",
      "       4.36910463e-02, 1.72503463e-02, 5.08971210e-02]))\n"
     ]
    }
   ],
   "source": [
    "for alg_name in metrics.keys():\n",
    "    print(f\"=============> For Method {alg_name} <=============\")\n",
    "    for metric in list(metrics[alg_name].keys())[1:]:\n",
    "        print(f\"Metric {metric}: {calculate_average_and_std(metrics[alg_name][metric])}\")"
   ]
  },
  {
   "cell_type": "code",
   "execution_count": null,
   "id": "ca1d60f7",
   "metadata": {},
   "outputs": [],
   "source": []
  },
  {
   "cell_type": "code",
   "execution_count": null,
   "id": "811bbe88",
   "metadata": {},
   "outputs": [],
   "source": []
  }
 ],
 "metadata": {
  "kernelspec": {
   "display_name": "Python 3 (ipykernel)",
   "language": "python",
   "name": "python3"
  },
  "language_info": {
   "codemirror_mode": {
    "name": "ipython",
    "version": 3
   },
   "file_extension": ".py",
   "mimetype": "text/x-python",
   "name": "python",
   "nbconvert_exporter": "python",
   "pygments_lexer": "ipython3",
   "version": "3.10.13"
  }
 },
 "nbformat": 4,
 "nbformat_minor": 5
}
